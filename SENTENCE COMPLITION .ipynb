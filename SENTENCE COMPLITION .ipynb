{
 "cells": [
  {
   "cell_type": "markdown",
   "id": "f53d0e07",
   "metadata": {},
   "source": [
    "# LOAD DATASET"
   ]
  },
  {
   "cell_type": "code",
   "execution_count": 2,
   "id": "520cebfc",
   "metadata": {},
   "outputs": [],
   "source": [
    "file = open(\"C:/Users/Dell/Downloads/RHTDM.txt\",mode='r')\n",
    "Q = file.read()"
   ]
  },
  {
   "cell_type": "markdown",
   "id": "2559d7e9",
   "metadata": {},
   "source": [
    "# remove new line chars"
   ]
  },
  {
   "cell_type": "code",
   "execution_count": 3,
   "id": "b4ffbc86",
   "metadata": {},
   "outputs": [],
   "source": [
    "from re import sub\n",
    "Q = sub(\"[\\n]\",\" \",Q)\n",
    "Q = sub(\"[^a-zA-Z0-9 ]\",\"\",Q)"
   ]
  },
  {
   "cell_type": "markdown",
   "id": "2a8c87ce",
   "metadata": {},
   "source": [
    "# unify cases and tokenizing"
   ]
  },
  {
   "cell_type": "code",
   "execution_count": 4,
   "id": "be046397",
   "metadata": {},
   "outputs": [],
   "source": [
    "Q = Q.upper().split(\" \")"
   ]
  },
  {
   "cell_type": "code",
   "execution_count": 5,
   "id": "384608ca",
   "metadata": {},
   "outputs": [
    {
     "data": {
      "text/plain": [
       "['SACH',\n",
       " 'KEH',\n",
       " 'RAHA',\n",
       " 'HAI',\n",
       " 'DEEWANA',\n",
       " 'DIL',\n",
       " 'DIL',\n",
       " 'NA',\n",
       " 'KISI',\n",
       " 'SE',\n",
       " 'LAGAANA',\n",
       " 'SACH',\n",
       " 'KEH',\n",
       " 'RAHA',\n",
       " 'HAI',\n",
       " 'DEEWANA',\n",
       " 'DIL',\n",
       " 'DIL',\n",
       " 'NA',\n",
       " 'KISI',\n",
       " 'SE',\n",
       " 'LAGAANA',\n",
       " 'JHOOTHE',\n",
       " 'HAI',\n",
       " 'YAAR',\n",
       " 'KE',\n",
       " 'WADE',\n",
       " 'SAARE',\n",
       " 'JHOOTHI',\n",
       " 'HAI',\n",
       " 'PYAAR',\n",
       " 'KI',\n",
       " 'KASMEIN',\n",
       " 'MAINE',\n",
       " 'HAR',\n",
       " 'LAMHA',\n",
       " 'JISSE',\n",
       " 'CHAAHA',\n",
       " 'JISSE',\n",
       " 'POOJA',\n",
       " 'USSI',\n",
       " 'NE',\n",
       " 'YAARON',\n",
       " 'MERA',\n",
       " 'DIL',\n",
       " 'TODA',\n",
       " 'TODA',\n",
       " 'TANHA',\n",
       " 'TANHA',\n",
       " 'CHHODA',\n",
       " 'SACH',\n",
       " 'KEH',\n",
       " 'RAHA',\n",
       " 'HAI',\n",
       " 'DEEWANA',\n",
       " 'DIL',\n",
       " 'DIL',\n",
       " 'NA',\n",
       " 'KISI',\n",
       " 'SE',\n",
       " 'LAGAANA',\n",
       " 'JHOOTHE',\n",
       " 'YAAR',\n",
       " 'KE',\n",
       " 'WADE',\n",
       " 'SAARE',\n",
       " 'JHOOTHI',\n",
       " 'HAI',\n",
       " 'PYAAR',\n",
       " 'KI',\n",
       " 'KASMEIN',\n",
       " 'MAINE',\n",
       " 'HAR',\n",
       " 'LAMHA',\n",
       " 'JISE',\n",
       " 'CHAAHA',\n",
       " 'JISE',\n",
       " 'POOJA',\n",
       " 'USSI',\n",
       " 'NE',\n",
       " 'YAARON',\n",
       " 'MERA',\n",
       " 'DIL',\n",
       " 'TODA',\n",
       " 'TODA',\n",
       " 'TANHA',\n",
       " 'TANHA',\n",
       " 'CHHODA',\n",
       " 'MAUSAM',\n",
       " 'MAUSAM',\n",
       " 'THA',\n",
       " 'SUHAANA',\n",
       " 'BADA',\n",
       " 'MAUSAM',\n",
       " 'MAUSAM',\n",
       " 'MAINE',\n",
       " 'DEKHA',\n",
       " 'USSE',\n",
       " 'HUA',\n",
       " 'MAIN',\n",
       " 'PAAGAL',\n",
       " 'BAS',\n",
       " 'PAL',\n",
       " 'BHAR',\n",
       " 'MEIN',\n",
       " 'AAH',\n",
       " 'MAUSAM',\n",
       " 'MAUSAM',\n",
       " 'THA',\n",
       " 'SUHAANA',\n",
       " 'BADA',\n",
       " 'MAUSAM',\n",
       " 'MAUSAM',\n",
       " 'MAINE',\n",
       " 'DEKHA',\n",
       " 'USSE',\n",
       " 'HUA',\n",
       " 'MAIN',\n",
       " 'PAAGAL',\n",
       " 'BAS',\n",
       " 'PAL',\n",
       " 'BHAR',\n",
       " 'MEIN',\n",
       " 'AAKE',\n",
       " 'BASI',\n",
       " 'HAI',\n",
       " 'WOH',\n",
       " 'MERE',\n",
       " 'MANN',\n",
       " 'MEIN',\n",
       " 'USKI',\n",
       " 'KAMI',\n",
       " 'HAI',\n",
       " 'AB',\n",
       " 'JEEVAN',\n",
       " 'MEIN',\n",
       " 'WO',\n",
       " 'DOOR',\n",
       " 'HAI',\n",
       " 'MERI',\n",
       " 'NAZRON',\n",
       " 'SE',\n",
       " 'KYOON',\n",
       " 'USSE',\n",
       " 'MAIN',\n",
       " 'CHAAHOON',\n",
       " '',\n",
       " 'OH',\n",
       " 'SACH',\n",
       " 'KEH',\n",
       " 'RAHA',\n",
       " 'HAI',\n",
       " 'DEEWANA',\n",
       " 'DIL',\n",
       " 'DIL',\n",
       " 'NA',\n",
       " 'KISI',\n",
       " 'SE',\n",
       " 'LAGAANA',\n",
       " 'JHOOTHE',\n",
       " 'HAI',\n",
       " 'YAAR',\n",
       " 'KE',\n",
       " 'WADE',\n",
       " 'SAARE',\n",
       " 'JHOOTHI',\n",
       " 'HAI',\n",
       " 'PYAAR',\n",
       " 'KI',\n",
       " 'KASMEIN',\n",
       " 'MAINE',\n",
       " 'HAR',\n",
       " 'LAMHA',\n",
       " 'JISE',\n",
       " 'CHAAHA',\n",
       " 'JISE',\n",
       " 'POOJA',\n",
       " 'USSI',\n",
       " 'NE',\n",
       " 'YAARON',\n",
       " 'MERA',\n",
       " 'DIL',\n",
       " 'TODA',\n",
       " 'TODA',\n",
       " 'TANHA',\n",
       " 'TANHA',\n",
       " 'CHHODA',\n",
       " 'SUNDAR',\n",
       " 'SUNDAR',\n",
       " 'WO',\n",
       " 'HASEENA',\n",
       " 'BADI',\n",
       " 'SUNDAR',\n",
       " 'SUNDAR',\n",
       " 'MAIN',\n",
       " 'TO',\n",
       " 'KHONE',\n",
       " 'LAGA',\n",
       " 'USKE',\n",
       " 'NASHE',\n",
       " 'MEIN',\n",
       " 'BIN',\n",
       " 'PIYE',\n",
       " 'BEHAKA',\n",
       " 'AAH',\n",
       " 'SUNDAR',\n",
       " 'SUNDAR',\n",
       " 'WO',\n",
       " 'HASEENA',\n",
       " 'BADI',\n",
       " 'SUNDAR',\n",
       " 'SUNDAR',\n",
       " 'MAIN',\n",
       " 'TO',\n",
       " 'KHONE',\n",
       " 'LAGA',\n",
       " 'USKE',\n",
       " 'NASHE',\n",
       " 'MEIN',\n",
       " 'BIN',\n",
       " 'PIYE',\n",
       " 'BEHAKA',\n",
       " 'EK',\n",
       " 'DIN',\n",
       " 'USSE',\n",
       " 'BHOOLA',\n",
       " 'DOONGA',\n",
       " 'MAIN',\n",
       " 'USKE',\n",
       " 'NISHAAN',\n",
       " 'MITA',\n",
       " 'DOONGA',\n",
       " 'MAIN',\n",
       " 'CHAAHOONGA',\n",
       " 'NA',\n",
       " 'MAIN',\n",
       " 'US',\n",
       " 'PATTHAR',\n",
       " 'KO',\n",
       " 'JAA',\n",
       " 'USSE',\n",
       " 'BATA',\n",
       " 'DE',\n",
       " 'LALLA',\n",
       " 'LAI',\n",
       " 'LAI',\n",
       " 'LAI',\n",
       " 'LAI',\n",
       " 'LA',\n",
       " 'LE',\n",
       " 'LALLA',\n",
       " 'LAI',\n",
       " 'LAI',\n",
       " 'LAI',\n",
       " 'LAI',\n",
       " 'LA',\n",
       " 'LALLA',\n",
       " 'LAI',\n",
       " 'LAI',\n",
       " 'LAI',\n",
       " 'LAI',\n",
       " 'LA',\n",
       " 'LE',\n",
       " 'LALLA',\n",
       " 'LAI',\n",
       " 'LAI',\n",
       " 'LAI',\n",
       " 'LAI',\n",
       " 'LA',\n",
       " 'MAINE',\n",
       " 'HAR',\n",
       " 'LAMHA',\n",
       " 'JISSE',\n",
       " 'CHAAHA',\n",
       " 'JISSE',\n",
       " 'POOJA',\n",
       " 'USSI',\n",
       " 'NE',\n",
       " 'YAARON',\n",
       " 'MERA',\n",
       " 'DIL',\n",
       " 'TODA',\n",
       " 'TODA',\n",
       " 'TANHA',\n",
       " 'TANHA',\n",
       " 'CHHODAA']"
      ]
     },
     "execution_count": 5,
     "metadata": {},
     "output_type": "execute_result"
    }
   ],
   "source": [
    "Q"
   ]
  },
  {
   "cell_type": "markdown",
   "id": "3024b15d",
   "metadata": {},
   "source": [
    "# convert data in 3->1 format"
   ]
  },
  {
   "cell_type": "code",
   "execution_count": 6,
   "id": "ef2821ae",
   "metadata": {},
   "outputs": [],
   "source": [
    "inp = []\n",
    "op = []\n",
    "for i in range(3,len(Q),1):\n",
    "    w1 = Q[i-3]\n",
    "    w2 = Q[i-2]\n",
    "    w3 = Q[i-1]\n",
    "    w4 = Q[i]\n",
    "    inp.append(w1 + \" \" + w2 + \" \" + w3)\n",
    "    op.append(w4)"
   ]
  },
  {
   "cell_type": "markdown",
   "id": "b99725da",
   "metadata": {},
   "source": [
    "# create dataframe for the same"
   ]
  },
  {
   "cell_type": "code",
   "execution_count": 7,
   "id": "92c4302b",
   "metadata": {},
   "outputs": [],
   "source": [
    "import pandas as pd\n",
    "Q1 = pd.DataFrame([inp,op]).T\n",
    "Q1.columns=[\"inp\",\"op\"]"
   ]
  },
  {
   "cell_type": "code",
   "execution_count": 8,
   "id": "0b87da09",
   "metadata": {},
   "outputs": [
    {
     "data": {
      "text/html": [
       "<div>\n",
       "<style scoped>\n",
       "    .dataframe tbody tr th:only-of-type {\n",
       "        vertical-align: middle;\n",
       "    }\n",
       "\n",
       "    .dataframe tbody tr th {\n",
       "        vertical-align: top;\n",
       "    }\n",
       "\n",
       "    .dataframe thead th {\n",
       "        text-align: right;\n",
       "    }\n",
       "</style>\n",
       "<table border=\"1\" class=\"dataframe\">\n",
       "  <thead>\n",
       "    <tr style=\"text-align: right;\">\n",
       "      <th></th>\n",
       "      <th>inp</th>\n",
       "      <th>op</th>\n",
       "    </tr>\n",
       "  </thead>\n",
       "  <tbody>\n",
       "    <tr>\n",
       "      <th>0</th>\n",
       "      <td>SACH KEH RAHA</td>\n",
       "      <td>HAI</td>\n",
       "    </tr>\n",
       "    <tr>\n",
       "      <th>1</th>\n",
       "      <td>KEH RAHA HAI</td>\n",
       "      <td>DEEWANA</td>\n",
       "    </tr>\n",
       "    <tr>\n",
       "      <th>2</th>\n",
       "      <td>RAHA HAI DEEWANA</td>\n",
       "      <td>DIL</td>\n",
       "    </tr>\n",
       "    <tr>\n",
       "      <th>3</th>\n",
       "      <td>HAI DEEWANA DIL</td>\n",
       "      <td>DIL</td>\n",
       "    </tr>\n",
       "    <tr>\n",
       "      <th>4</th>\n",
       "      <td>DEEWANA DIL DIL</td>\n",
       "      <td>NA</td>\n",
       "    </tr>\n",
       "  </tbody>\n",
       "</table>\n",
       "</div>"
      ],
      "text/plain": [
       "                inp       op\n",
       "0     SACH KEH RAHA      HAI\n",
       "1      KEH RAHA HAI  DEEWANA\n",
       "2  RAHA HAI DEEWANA      DIL\n",
       "3   HAI DEEWANA DIL      DIL\n",
       "4   DEEWANA DIL DIL       NA"
      ]
     },
     "execution_count": 8,
     "metadata": {},
     "output_type": "execute_result"
    }
   ],
   "source": [
    "Q1.head()"
   ]
  },
  {
   "cell_type": "markdown",
   "id": "0c1fbebb",
   "metadata": {},
   "source": [
    "# DEFINE ARRAY FOR X"
   ]
  },
  {
   "cell_type": "code",
   "execution_count": 9,
   "id": "50a6fb50",
   "metadata": {},
   "outputs": [
    {
     "data": {
      "text/plain": [
       "283"
      ]
     },
     "execution_count": 9,
     "metadata": {},
     "output_type": "execute_result"
    }
   ],
   "source": [
    "len(inp)"
   ]
  },
  {
   "cell_type": "code",
   "execution_count": 10,
   "id": "73005007",
   "metadata": {},
   "outputs": [
    {
     "data": {
      "text/plain": [
       "93"
      ]
     },
     "execution_count": 10,
     "metadata": {},
     "output_type": "execute_result"
    }
   ],
   "source": [
    "from numpy import unique\n",
    "unique_words = list(unique(Q))\n",
    "len(unique_words)"
   ]
  },
  {
   "cell_type": "code",
   "execution_count": 11,
   "id": "e5a2f167",
   "metadata": {},
   "outputs": [],
   "source": [
    "from numpy import zeros\n",
    "X = zeros((283,93,3))"
   ]
  },
  {
   "cell_type": "markdown",
   "id": "83099f63",
   "metadata": {},
   "source": [
    "# FILL DATA IN BLANK ARRAY X"
   ]
  },
  {
   "cell_type": "code",
   "execution_count": 12,
   "id": "122e96fe",
   "metadata": {},
   "outputs": [],
   "source": [
    "for line_no, line in enumerate(inp):\n",
    "    for word_no,word in enumerate(line.split(\" \")):\n",
    "        X[line_no,unique_words.index(word),word_no] = 1"
   ]
  },
  {
   "cell_type": "markdown",
   "id": "945f409c",
   "metadata": {},
   "source": [
    "# CROSS CHECK (\"LAGAANA\")"
   ]
  },
  {
   "cell_type": "code",
   "execution_count": 13,
   "id": "ddddd09a",
   "metadata": {},
   "outputs": [
    {
     "data": {
      "text/plain": [
       "1.0"
      ]
     },
     "execution_count": 13,
     "metadata": {},
     "output_type": "execute_result"
    }
   ],
   "source": [
    "X[8,47,2]"
   ]
  },
  {
   "cell_type": "code",
   "execution_count": 14,
   "id": "096552fd",
   "metadata": {},
   "outputs": [
    {
     "data": {
      "text/plain": [
       "47"
      ]
     },
     "execution_count": 14,
     "metadata": {},
     "output_type": "execute_result"
    }
   ],
   "source": [
    "unique_words.index(\"LAGAANA\")"
   ]
  },
  {
   "cell_type": "markdown",
   "id": "a8324881",
   "metadata": {},
   "source": [
    "# PREPARE OUTPUT"
   ]
  },
  {
   "cell_type": "code",
   "execution_count": 15,
   "id": "b29836b8",
   "metadata": {},
   "outputs": [],
   "source": [
    "Y = zeros((283,93))\n",
    "for line_no, word in enumerate(list(Q1.op)):\n",
    "    Y[line_no,unique_words.index(word)]=1"
   ]
  },
  {
   "cell_type": "code",
   "execution_count": 16,
   "id": "b61a4841",
   "metadata": {},
   "outputs": [
    {
     "data": {
      "text/plain": [
       "array([[0., 0., 0., ..., 0., 0., 0.],\n",
       "       [0., 0., 0., ..., 0., 0., 0.],\n",
       "       [0., 0., 0., ..., 0., 0., 0.],\n",
       "       ...,\n",
       "       [0., 0., 0., ..., 0., 0., 0.],\n",
       "       [0., 0., 0., ..., 0., 0., 0.],\n",
       "       [0., 0., 0., ..., 0., 0., 0.]])"
      ]
     },
     "execution_count": 16,
     "metadata": {},
     "output_type": "execute_result"
    }
   ],
   "source": [
    "Y"
   ]
  },
  {
   "cell_type": "markdown",
   "id": "803524a8",
   "metadata": {},
   "source": [
    "# VERIFY"
   ]
  },
  {
   "cell_type": "code",
   "execution_count": 17,
   "id": "9f451527",
   "metadata": {},
   "outputs": [
    {
     "data": {
      "text/plain": [
       "73"
      ]
     },
     "execution_count": 17,
     "metadata": {},
     "output_type": "execute_result"
    }
   ],
   "source": [
    "unique_words.index(\"RAHA\")"
   ]
  },
  {
   "cell_type": "code",
   "execution_count": 18,
   "id": "a5133822",
   "metadata": {},
   "outputs": [
    {
     "data": {
      "text/plain": [
       "1.0"
      ]
     },
     "execution_count": 18,
     "metadata": {},
     "output_type": "execute_result"
    }
   ],
   "source": [
    "Y[10,73]"
   ]
  },
  {
   "cell_type": "code",
   "execution_count": 19,
   "id": "66d65a62",
   "metadata": {},
   "outputs": [
    {
     "data": {
      "text/plain": [
       "['',\n",
       " 'AAH',\n",
       " 'AAKE',\n",
       " 'AB',\n",
       " 'BADA',\n",
       " 'BADI',\n",
       " 'BAS',\n",
       " 'BASI',\n",
       " 'BATA',\n",
       " 'BEHAKA',\n",
       " 'BHAR',\n",
       " 'BHOOLA',\n",
       " 'BIN',\n",
       " 'CHAAHA',\n",
       " 'CHAAHOON',\n",
       " 'CHAAHOONGA',\n",
       " 'CHHODA',\n",
       " 'CHHODAA',\n",
       " 'DE',\n",
       " 'DEEWANA',\n",
       " 'DEKHA',\n",
       " 'DIL',\n",
       " 'DIN',\n",
       " 'DOONGA',\n",
       " 'DOOR',\n",
       " 'EK',\n",
       " 'HAI',\n",
       " 'HAR',\n",
       " 'HASEENA',\n",
       " 'HUA',\n",
       " 'JAA',\n",
       " 'JEEVAN',\n",
       " 'JHOOTHE',\n",
       " 'JHOOTHI',\n",
       " 'JISE',\n",
       " 'JISSE',\n",
       " 'KAMI',\n",
       " 'KASMEIN',\n",
       " 'KE',\n",
       " 'KEH',\n",
       " 'KHONE',\n",
       " 'KI',\n",
       " 'KISI',\n",
       " 'KO',\n",
       " 'KYOON',\n",
       " 'LA',\n",
       " 'LAGA',\n",
       " 'LAGAANA',\n",
       " 'LAI',\n",
       " 'LALLA',\n",
       " 'LAMHA',\n",
       " 'LE',\n",
       " 'MAIN',\n",
       " 'MAINE',\n",
       " 'MANN',\n",
       " 'MAUSAM',\n",
       " 'MEIN',\n",
       " 'MERA',\n",
       " 'MERE',\n",
       " 'MERI',\n",
       " 'MITA',\n",
       " 'NA',\n",
       " 'NASHE',\n",
       " 'NAZRON',\n",
       " 'NE',\n",
       " 'NISHAAN',\n",
       " 'OH',\n",
       " 'PAAGAL',\n",
       " 'PAL',\n",
       " 'PATTHAR',\n",
       " 'PIYE',\n",
       " 'POOJA',\n",
       " 'PYAAR',\n",
       " 'RAHA',\n",
       " 'SAARE',\n",
       " 'SACH',\n",
       " 'SE',\n",
       " 'SUHAANA',\n",
       " 'SUNDAR',\n",
       " 'TANHA',\n",
       " 'THA',\n",
       " 'TO',\n",
       " 'TODA',\n",
       " 'US',\n",
       " 'USKE',\n",
       " 'USKI',\n",
       " 'USSE',\n",
       " 'USSI',\n",
       " 'WADE',\n",
       " 'WO',\n",
       " 'WOH',\n",
       " 'YAAR',\n",
       " 'YAARON']"
      ]
     },
     "execution_count": 19,
     "metadata": {},
     "output_type": "execute_result"
    }
   ],
   "source": [
    "unique_words"
   ]
  },
  {
   "cell_type": "markdown",
   "id": "39058014",
   "metadata": {},
   "source": [
    "# CREATE LSTM MODEL"
   ]
  },
  {
   "cell_type": "code",
   "execution_count": 20,
   "id": "6d3d1335",
   "metadata": {},
   "outputs": [],
   "source": [
    "from keras.models import Sequential\n",
    "from keras.layers import Dense,Dropout,LSTM\n",
    "from keras.layers.core import Activation"
   ]
  },
  {
   "cell_type": "code",
   "execution_count": 21,
   "id": "f4668a06",
   "metadata": {},
   "outputs": [],
   "source": [
    "nn = Sequential()\n",
    "nn.add(LSTM(100,input_shape=(93,3)))\n",
    "nn.add(Dense(93))\n",
    "nn.add(Activation(\"softmax\"))"
   ]
  },
  {
   "cell_type": "code",
   "execution_count": 22,
   "id": "1707df24",
   "metadata": {},
   "outputs": [
    {
     "name": "stdout",
     "output_type": "stream",
     "text": [
      "Epoch 1/40\n",
      "8/8 [==============================] - 7s 292ms/step - loss: 4.5313 - accuracy: 0.0265 - val_loss: 4.5412 - val_accuracy: 0.0000e+00\n",
      "Epoch 2/40\n",
      "8/8 [==============================] - 1s 131ms/step - loss: 4.5166 - accuracy: 0.0442 - val_loss: 4.5657 - val_accuracy: 0.0175\n",
      "Epoch 3/40\n",
      "8/8 [==============================] - 1s 119ms/step - loss: 4.4264 - accuracy: 0.0487 - val_loss: 5.2728 - val_accuracy: 0.0175\n",
      "Epoch 4/40\n",
      "8/8 [==============================] - 1s 125ms/step - loss: 4.3150 - accuracy: 0.0487 - val_loss: 5.5972 - val_accuracy: 0.0175\n",
      "Epoch 5/40\n",
      "8/8 [==============================] - 1s 132ms/step - loss: 4.2625 - accuracy: 0.0531 - val_loss: 5.8029 - val_accuracy: 0.0000e+00\n",
      "Epoch 6/40\n",
      "8/8 [==============================] - 1s 129ms/step - loss: 4.2227 - accuracy: 0.0531 - val_loss: 5.9757 - val_accuracy: 0.0000e+00\n",
      "Epoch 7/40\n",
      "8/8 [==============================] - 1s 128ms/step - loss: 4.2052 - accuracy: 0.0531 - val_loss: 6.1295 - val_accuracy: 0.0000e+00\n",
      "Epoch 8/40\n",
      "8/8 [==============================] - 1s 125ms/step - loss: 4.1994 - accuracy: 0.0531 - val_loss: 6.2823 - val_accuracy: 0.0000e+00\n",
      "Epoch 9/40\n",
      "8/8 [==============================] - 1s 129ms/step - loss: 4.2002 - accuracy: 0.0354 - val_loss: 6.3210 - val_accuracy: 0.0175\n",
      "Epoch 10/40\n",
      "8/8 [==============================] - 1s 126ms/step - loss: 4.1941 - accuracy: 0.0354 - val_loss: 6.3748 - val_accuracy: 0.0175\n",
      "Epoch 11/40\n",
      "8/8 [==============================] - 1s 126ms/step - loss: 4.1902 - accuracy: 0.0487 - val_loss: 6.4459 - val_accuracy: 0.0175\n",
      "Epoch 12/40\n",
      "8/8 [==============================] - 1s 128ms/step - loss: 4.1891 - accuracy: 0.0487 - val_loss: 6.5872 - val_accuracy: 0.0000e+00\n",
      "Epoch 13/40\n",
      "8/8 [==============================] - 1s 129ms/step - loss: 4.1856 - accuracy: 0.0354 - val_loss: 6.6838 - val_accuracy: 0.0000e+00\n",
      "Epoch 14/40\n",
      "8/8 [==============================] - 1s 123ms/step - loss: 4.1820 - accuracy: 0.0531 - val_loss: 6.7363 - val_accuracy: 0.0175\n",
      "Epoch 15/40\n",
      "8/8 [==============================] - 1s 128ms/step - loss: 4.1833 - accuracy: 0.0619 - val_loss: 6.7805 - val_accuracy: 0.0175\n",
      "Epoch 16/40\n",
      "8/8 [==============================] - 1s 130ms/step - loss: 4.1815 - accuracy: 0.0487 - val_loss: 6.8127 - val_accuracy: 0.0175\n",
      "Epoch 17/40\n",
      "8/8 [==============================] - 1s 130ms/step - loss: 4.1833 - accuracy: 0.0487 - val_loss: 6.8321 - val_accuracy: 0.0175\n",
      "Epoch 18/40\n",
      "8/8 [==============================] - 1s 128ms/step - loss: 4.1808 - accuracy: 0.0487 - val_loss: 6.8439 - val_accuracy: 0.0351\n",
      "Epoch 19/40\n",
      "8/8 [==============================] - 1s 106ms/step - loss: 4.1806 - accuracy: 0.0531 - val_loss: 6.9043 - val_accuracy: 0.0175\n",
      "Epoch 20/40\n",
      "8/8 [==============================] - 1s 128ms/step - loss: 4.1786 - accuracy: 0.0487 - val_loss: 6.9925 - val_accuracy: 0.0175\n",
      "Epoch 21/40\n",
      "8/8 [==============================] - 1s 130ms/step - loss: 4.1798 - accuracy: 0.0487 - val_loss: 7.0523 - val_accuracy: 0.0175\n",
      "Epoch 22/40\n",
      "8/8 [==============================] - 1s 128ms/step - loss: 4.1832 - accuracy: 0.0487 - val_loss: 7.1134 - val_accuracy: 0.0175\n",
      "Epoch 23/40\n",
      "8/8 [==============================] - 1s 128ms/step - loss: 4.1864 - accuracy: 0.0487 - val_loss: 7.1553 - val_accuracy: 0.0175\n",
      "Epoch 24/40\n",
      "8/8 [==============================] - 1s 126ms/step - loss: 4.1819 - accuracy: 0.0487 - val_loss: 7.1402 - val_accuracy: 0.0175\n",
      "Epoch 25/40\n",
      "8/8 [==============================] - 1s 128ms/step - loss: 4.1713 - accuracy: 0.0487 - val_loss: 7.0707 - val_accuracy: 0.0175\n",
      "Epoch 26/40\n",
      "8/8 [==============================] - 1s 129ms/step - loss: 4.1707 - accuracy: 0.0487 - val_loss: 7.0764 - val_accuracy: 0.0175\n",
      "Epoch 27/40\n",
      "8/8 [==============================] - 1s 130ms/step - loss: 4.1723 - accuracy: 0.0531 - val_loss: 7.0908 - val_accuracy: 0.0175\n",
      "Epoch 28/40\n",
      "8/8 [==============================] - 1s 130ms/step - loss: 4.1732 - accuracy: 0.0664 - val_loss: 7.1160 - val_accuracy: 0.0175\n",
      "Epoch 29/40\n",
      "8/8 [==============================] - 1s 130ms/step - loss: 4.1703 - accuracy: 0.0664 - val_loss: 7.1564 - val_accuracy: 0.0175\n",
      "Epoch 30/40\n",
      "8/8 [==============================] - 1s 128ms/step - loss: 4.1694 - accuracy: 0.0664 - val_loss: 7.1857 - val_accuracy: 0.0175\n",
      "Epoch 31/40\n",
      "8/8 [==============================] - 1s 129ms/step - loss: 4.1688 - accuracy: 0.0664 - val_loss: 7.2116 - val_accuracy: 0.0351\n",
      "Epoch 32/40\n",
      "8/8 [==============================] - 1s 131ms/step - loss: 4.1703 - accuracy: 0.0796 - val_loss: 7.2492 - val_accuracy: 0.0351\n",
      "Epoch 33/40\n",
      "8/8 [==============================] - 1s 132ms/step - loss: 4.1667 - accuracy: 0.0619 - val_loss: 7.3208 - val_accuracy: 0.0000e+00\n",
      "Epoch 34/40\n",
      "8/8 [==============================] - 1s 130ms/step - loss: 4.1671 - accuracy: 0.0531 - val_loss: 7.2628 - val_accuracy: 0.0000e+00\n",
      "Epoch 35/40\n",
      "8/8 [==============================] - 1s 110ms/step - loss: 4.1681 - accuracy: 0.0531 - val_loss: 7.2033 - val_accuracy: 0.0000e+00\n",
      "Epoch 36/40\n",
      "8/8 [==============================] - 1s 130ms/step - loss: 4.1703 - accuracy: 0.0575 - val_loss: 7.1951 - val_accuracy: 0.0175\n",
      "Epoch 37/40\n",
      "8/8 [==============================] - 1s 128ms/step - loss: 4.1713 - accuracy: 0.0664 - val_loss: 7.1832 - val_accuracy: 0.0175\n",
      "Epoch 38/40\n",
      "8/8 [==============================] - 1s 130ms/step - loss: 4.1668 - accuracy: 0.0664 - val_loss: 7.1719 - val_accuracy: 0.0175\n",
      "Epoch 39/40\n",
      "8/8 [==============================] - 1s 132ms/step - loss: 4.1630 - accuracy: 0.0531 - val_loss: 7.2352 - val_accuracy: 0.0175\n",
      "Epoch 40/40\n",
      "8/8 [==============================] - 1s 128ms/step - loss: 4.1641 - accuracy: 0.0487 - val_loss: 7.2822 - val_accuracy: 0.0175\n"
     ]
    }
   ],
   "source": [
    "nn.compile(loss=\"categorical_crossentropy\",metrics=\"accuracy\",optimizer=\"adam\")\n",
    "model = nn.fit(X,Y,validation_split=0.2,epochs=40)"
   ]
  },
  {
   "cell_type": "code",
   "execution_count": 23,
   "id": "05dd6a61",
   "metadata": {},
   "outputs": [],
   "source": [
    "acc = model.history['accuracy']\n",
    "val_acc = model.history['val_accuracy']"
   ]
  },
  {
   "cell_type": "code",
   "execution_count": 24,
   "id": "e7f4abef",
   "metadata": {},
   "outputs": [
    {
     "data": {
      "text/plain": [
       "[<matplotlib.lines.Line2D at 0x17e1c57ae80>]"
      ]
     },
     "execution_count": 24,
     "metadata": {},
     "output_type": "execute_result"
    },
    {
     "data": {
      "image/png": "[encoded data removed]",
      "text/plain": [
       "<Figure size 432x288 with 1 Axes>"
      ]
     },
     "metadata": {
      "needs_background": "light"
     },
     "output_type": "display_data"
    }
   ],
   "source": [
    "import matplotlib.pyplot as plt\n",
    "plt.plot(acc)\n",
    "plt.plot(val_acc)"
   ]
  },
  {
   "cell_type": "markdown",
   "id": "fe605d7d",
   "metadata": {},
   "source": [
    "# TESTING "
   ]
  },
  {
   "cell_type": "code",
   "execution_count": 25,
   "id": "3361c6a6",
   "metadata": {},
   "outputs": [
    {
     "name": "stdout",
     "output_type": "stream",
     "text": [
      "Enter words(3) : Woh haseena badi\n"
     ]
    }
   ],
   "source": [
    "ip = input(\"Enter words(3) : \").upper()\n",
    "ip = sub(\"[^a-zA-Z0-9 ]\",\"\",ip)\n",
    "if(len(ip.split(\" \")) != 3):\n",
    "    print(\"Renter data(3 words only)\")"
   ]
  },
  {
   "cell_type": "code",
   "execution_count": 27,
   "id": "cca4cfc5",
   "metadata": {},
   "outputs": [
    {
     "name": "stdout",
     "output_type": "stream",
     "text": [
      "1/1 [==============================] - 0s 62ms/step\n"
     ]
    },
    {
     "data": {
      "text/plain": [
       "'DIL'"
      ]
     },
     "execution_count": 27,
     "metadata": {},
     "output_type": "execute_result"
    }
   ],
   "source": [
    "inp_X = zeros((1,93,3))\n",
    "for word_no,word in enumerate(ip.split(\" \")):\n",
    "    inp_X[0,unique_words.index(word),word_no] = 1\n",
    "\n",
    "prob = nn.predict(inp_X)\n",
    "from numpy import argmax\n",
    "unique_words[argmax(prob)]"
   ]
  },
  {
   "cell_type": "code",
   "execution_count": null,
   "id": "56607eed",
   "metadata": {},
   "outputs": [],
   "source": []
  }
 ],
 "metadata": {
  "kernelspec": {
   "display_name": "Python 3",
   "language": "python",
   "name": "python3"
  },
  "language_info": {
   "codemirror_mode": {
    "name": "ipython",
    "version": 3
   },
   "file_extension": ".py",
   "mimetype": "text/x-python",
   "name": "python",
   "nbconvert_exporter": "python",
   "pygments_lexer": "ipython3",
   "version": "3.8.8"
  }
 },
 "nbformat": 4,
 "nbformat_minor": 5
}
